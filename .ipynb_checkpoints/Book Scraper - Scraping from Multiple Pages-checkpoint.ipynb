{
 "cells": [
  {
   "cell_type": "code",
   "execution_count": 6,
   "id": "6179036f-dc0b-48c2-b189-581fe498d837",
   "metadata": {},
   "outputs": [],
   "source": [
    "import requests\n",
    "from bs4 import BeautifulSoup\n",
    "import pandas as pd"
   ]
  },
  {
   "cell_type": "code",
   "execution_count": 4,
   "id": "06f91c62-d277-4fb5-8fa3-fa9457ff1737",
   "metadata": {},
   "outputs": [],
   "source": [
    "data = []\n",
    "for i in range (1, 51):\n",
    "    link = \"https://books.toscrape.com/catalogue/page-\" + str(i) + \".html\"\n",
    "    res = requests.get(link)\n",
    "    soup = BeautifulSoup(res.text, \"html.parser\")\n",
    "    for sp in soup.find_all(\"li\", class_=\"col-xs-6 col-sm-4 col-md-3 col-lg-3\"):\n",
    "        title = sp.find_all(\"a\")[-1].get(\"title\")\n",
    "        book = \"https://books.toscrape.com/catalogue/\" + sp.find_all(\"a\")[-1].get(\"href\")\n",
    "        img_link = \"https://books.toscrape.com\" + sp.find(\"img\").get(\"src\")[2:]\n",
    "        rating = sp.find(\"p\").get(\"class\")[-1]\n",
    "        price = sp.find(\"p\", class_=\"price_color\").text[1:]\n",
    "        avbl = sp.find(\"p\", class_=\"instock availability\").text.strip()\n",
    "        data.append([title, rating, price, avbl, book, img_link])"
   ]
  },
  {
   "cell_type": "code",
   "execution_count": 5,
   "id": "b2f0db81-028e-473b-9e92-5e86cff1834f",
   "metadata": {},
   "outputs": [
    {
     "data": {
      "text/plain": [
       "1000"
      ]
     },
     "execution_count": 5,
     "metadata": {},
     "output_type": "execute_result"
    }
   ],
   "source": [
    "# now there should be 1000 books data here\n",
    "len(data)"
   ]
  },
  {
   "cell_type": "code",
   "execution_count": 7,
   "id": "d5982324-cced-421d-9226-337950fe3683",
   "metadata": {},
   "outputs": [],
   "source": [
    "df = pd.DataFrame(data, columns = [\"TITLE\", \"RATING\", \"PRICE\", \"STOCK\", \"BOOK LINK\", \"IMAGE LINK\"])"
   ]
  },
  {
   "cell_type": "code",
   "execution_count": 8,
   "id": "9472f295-e689-43fe-b0c2-d28b3287bba3",
   "metadata": {},
   "outputs": [
    {
     "data": {
      "text/html": [
       "<div>\n",
       "<style scoped>\n",
       "    .dataframe tbody tr th:only-of-type {\n",
       "        vertical-align: middle;\n",
       "    }\n",
       "\n",
       "    .dataframe tbody tr th {\n",
       "        vertical-align: top;\n",
       "    }\n",
       "\n",
       "    .dataframe thead th {\n",
       "        text-align: right;\n",
       "    }\n",
       "</style>\n",
       "<table border=\"1\" class=\"dataframe\">\n",
       "  <thead>\n",
       "    <tr style=\"text-align: right;\">\n",
       "      <th></th>\n",
       "      <th>TITLE</th>\n",
       "      <th>RATING</th>\n",
       "      <th>PRICE</th>\n",
       "      <th>STOCK</th>\n",
       "      <th>BOOK LINK</th>\n",
       "      <th>IMAGE LINK</th>\n",
       "    </tr>\n",
       "  </thead>\n",
       "  <tbody>\n",
       "    <tr>\n",
       "      <th>0</th>\n",
       "      <td>A Light in the Attic</td>\n",
       "      <td>Three</td>\n",
       "      <td>£51.77</td>\n",
       "      <td>In stock</td>\n",
       "      <td>https://books.toscrape.com/catalogue/a-light-i...</td>\n",
       "      <td>https://books.toscrape.com/media/cache/2c/da/2...</td>\n",
       "    </tr>\n",
       "    <tr>\n",
       "      <th>1</th>\n",
       "      <td>Tipping the Velvet</td>\n",
       "      <td>One</td>\n",
       "      <td>£53.74</td>\n",
       "      <td>In stock</td>\n",
       "      <td>https://books.toscrape.com/catalogue/tipping-t...</td>\n",
       "      <td>https://books.toscrape.com/media/cache/26/0c/2...</td>\n",
       "    </tr>\n",
       "    <tr>\n",
       "      <th>2</th>\n",
       "      <td>Soumission</td>\n",
       "      <td>One</td>\n",
       "      <td>£50.10</td>\n",
       "      <td>In stock</td>\n",
       "      <td>https://books.toscrape.com/catalogue/soumissio...</td>\n",
       "      <td>https://books.toscrape.com/media/cache/3e/ef/3...</td>\n",
       "    </tr>\n",
       "    <tr>\n",
       "      <th>3</th>\n",
       "      <td>Sharp Objects</td>\n",
       "      <td>Four</td>\n",
       "      <td>£47.82</td>\n",
       "      <td>In stock</td>\n",
       "      <td>https://books.toscrape.com/catalogue/sharp-obj...</td>\n",
       "      <td>https://books.toscrape.com/media/cache/32/51/3...</td>\n",
       "    </tr>\n",
       "    <tr>\n",
       "      <th>4</th>\n",
       "      <td>Sapiens: A Brief History of Humankind</td>\n",
       "      <td>Five</td>\n",
       "      <td>£54.23</td>\n",
       "      <td>In stock</td>\n",
       "      <td>https://books.toscrape.com/catalogue/sapiens-a...</td>\n",
       "      <td>https://books.toscrape.com/media/cache/be/a5/b...</td>\n",
       "    </tr>\n",
       "  </tbody>\n",
       "</table>\n",
       "</div>"
      ],
      "text/plain": [
       "                                   TITLE RATING   PRICE     STOCK  \\\n",
       "0                   A Light in the Attic  Three  £51.77  In stock   \n",
       "1                     Tipping the Velvet    One  £53.74  In stock   \n",
       "2                             Soumission    One  £50.10  In stock   \n",
       "3                          Sharp Objects   Four  £47.82  In stock   \n",
       "4  Sapiens: A Brief History of Humankind   Five  £54.23  In stock   \n",
       "\n",
       "                                           BOOK LINK  \\\n",
       "0  https://books.toscrape.com/catalogue/a-light-i...   \n",
       "1  https://books.toscrape.com/catalogue/tipping-t...   \n",
       "2  https://books.toscrape.com/catalogue/soumissio...   \n",
       "3  https://books.toscrape.com/catalogue/sharp-obj...   \n",
       "4  https://books.toscrape.com/catalogue/sapiens-a...   \n",
       "\n",
       "                                          IMAGE LINK  \n",
       "0  https://books.toscrape.com/media/cache/2c/da/2...  \n",
       "1  https://books.toscrape.com/media/cache/26/0c/2...  \n",
       "2  https://books.toscrape.com/media/cache/3e/ef/3...  \n",
       "3  https://books.toscrape.com/media/cache/32/51/3...  \n",
       "4  https://books.toscrape.com/media/cache/be/a5/b...  "
      ]
     },
     "execution_count": 8,
     "metadata": {},
     "output_type": "execute_result"
    }
   ],
   "source": [
    "df.head()"
   ]
  },
  {
   "cell_type": "code",
   "execution_count": 9,
   "id": "a68f424d-a834-4ec5-86cd-577f528e6446",
   "metadata": {},
   "outputs": [
    {
     "data": {
      "text/plain": [
       "TITLE         0\n",
       "RATING        0\n",
       "PRICE         0\n",
       "STOCK         0\n",
       "BOOK LINK     0\n",
       "IMAGE LINK    0\n",
       "dtype: int64"
      ]
     },
     "execution_count": 9,
     "metadata": {},
     "output_type": "execute_result"
    }
   ],
   "source": [
    "df.isnull().sum()"
   ]
  },
  {
   "cell_type": "code",
   "execution_count": 10,
   "id": "ec2a867f-d86f-4d61-bdd7-fdac839db2d8",
   "metadata": {},
   "outputs": [],
   "source": [
    "df.to_csv(\"Books.csv\", index = False)"
   ]
  },
  {
   "cell_type": "code",
   "execution_count": null,
   "id": "dbef1fbc-ac9b-4721-8116-f76b00c8b7ab",
   "metadata": {},
   "outputs": [],
   "source": []
  }
 ],
 "metadata": {
  "kernelspec": {
   "display_name": "Python 3 (ipykernel)",
   "language": "python",
   "name": "python3"
  },
  "language_info": {
   "codemirror_mode": {
    "name": "ipython",
    "version": 3
   },
   "file_extension": ".py",
   "mimetype": "text/x-python",
   "name": "python",
   "nbconvert_exporter": "python",
   "pygments_lexer": "ipython3",
   "version": "3.11.7"
  }
 },
 "nbformat": 4,
 "nbformat_minor": 5
}
