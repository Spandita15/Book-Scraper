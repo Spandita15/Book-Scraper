{
 "cells": [
  {
   "cell_type": "code",
   "execution_count": 6,
   "id": "151585c7-9d1f-4bad-a77f-a573febc8815",
   "metadata": {},
   "outputs": [],
   "source": [
    "import requests\n",
    "from bs4 import BeautifulSoup\n",
    "import pandas as pd\n",
    "from tqdm import tqdm"
   ]
  },
  {
   "cell_type": "code",
   "execution_count": 5,
   "id": "de3950c5-8106-4cae-afee-695d85c7ba46",
   "metadata": {},
   "outputs": [
    {
     "data": {
      "text/html": [
       "<div>\n",
       "<style scoped>\n",
       "    .dataframe tbody tr th:only-of-type {\n",
       "        vertical-align: middle;\n",
       "    }\n",
       "\n",
       "    .dataframe tbody tr th {\n",
       "        vertical-align: top;\n",
       "    }\n",
       "\n",
       "    .dataframe thead th {\n",
       "        text-align: right;\n",
       "    }\n",
       "</style>\n",
       "<table border=\"1\" class=\"dataframe\">\n",
       "  <thead>\n",
       "    <tr style=\"text-align: right;\">\n",
       "      <th></th>\n",
       "      <th>TITLE</th>\n",
       "      <th>RATING</th>\n",
       "      <th>PRICE</th>\n",
       "      <th>STOCK</th>\n",
       "      <th>BOOK LINK</th>\n",
       "      <th>IMAGE LINK</th>\n",
       "    </tr>\n",
       "  </thead>\n",
       "  <tbody>\n",
       "    <tr>\n",
       "      <th>0</th>\n",
       "      <td>A Light in the Attic</td>\n",
       "      <td>Three</td>\n",
       "      <td>£51.77</td>\n",
       "      <td>In stock</td>\n",
       "      <td>https://books.toscrape.com/catalogue/a-light-i...</td>\n",
       "      <td>https://books.toscrape.com/media/cache/2c/da/2...</td>\n",
       "    </tr>\n",
       "    <tr>\n",
       "      <th>1</th>\n",
       "      <td>Tipping the Velvet</td>\n",
       "      <td>One</td>\n",
       "      <td>£53.74</td>\n",
       "      <td>In stock</td>\n",
       "      <td>https://books.toscrape.com/catalogue/tipping-t...</td>\n",
       "      <td>https://books.toscrape.com/media/cache/26/0c/2...</td>\n",
       "    </tr>\n",
       "    <tr>\n",
       "      <th>2</th>\n",
       "      <td>Soumission</td>\n",
       "      <td>One</td>\n",
       "      <td>£50.10</td>\n",
       "      <td>In stock</td>\n",
       "      <td>https://books.toscrape.com/catalogue/soumissio...</td>\n",
       "      <td>https://books.toscrape.com/media/cache/3e/ef/3...</td>\n",
       "    </tr>\n",
       "    <tr>\n",
       "      <th>3</th>\n",
       "      <td>Sharp Objects</td>\n",
       "      <td>Four</td>\n",
       "      <td>£47.82</td>\n",
       "      <td>In stock</td>\n",
       "      <td>https://books.toscrape.com/catalogue/sharp-obj...</td>\n",
       "      <td>https://books.toscrape.com/media/cache/32/51/3...</td>\n",
       "    </tr>\n",
       "    <tr>\n",
       "      <th>4</th>\n",
       "      <td>Sapiens: A Brief History of Humankind</td>\n",
       "      <td>Five</td>\n",
       "      <td>£54.23</td>\n",
       "      <td>In stock</td>\n",
       "      <td>https://books.toscrape.com/catalogue/sapiens-a...</td>\n",
       "      <td>https://books.toscrape.com/media/cache/be/a5/b...</td>\n",
       "    </tr>\n",
       "  </tbody>\n",
       "</table>\n",
       "</div>"
      ],
      "text/plain": [
       "                                   TITLE RATING   PRICE     STOCK  \\\n",
       "0                   A Light in the Attic  Three  £51.77  In stock   \n",
       "1                     Tipping the Velvet    One  £53.74  In stock   \n",
       "2                             Soumission    One  £50.10  In stock   \n",
       "3                          Sharp Objects   Four  £47.82  In stock   \n",
       "4  Sapiens: A Brief History of Humankind   Five  £54.23  In stock   \n",
       "\n",
       "                                           BOOK LINK  \\\n",
       "0  https://books.toscrape.com/catalogue/a-light-i...   \n",
       "1  https://books.toscrape.com/catalogue/tipping-t...   \n",
       "2  https://books.toscrape.com/catalogue/soumissio...   \n",
       "3  https://books.toscrape.com/catalogue/sharp-obj...   \n",
       "4  https://books.toscrape.com/catalogue/sapiens-a...   \n",
       "\n",
       "                                          IMAGE LINK  \n",
       "0  https://books.toscrape.com/media/cache/2c/da/2...  \n",
       "1  https://books.toscrape.com/media/cache/26/0c/2...  \n",
       "2  https://books.toscrape.com/media/cache/3e/ef/3...  \n",
       "3  https://books.toscrape.com/media/cache/32/51/3...  \n",
       "4  https://books.toscrape.com/media/cache/be/a5/b...  "
      ]
     },
     "execution_count": 5,
     "metadata": {},
     "output_type": "execute_result"
    }
   ],
   "source": [
    "df = pd.read_csv(\"Books.csv\")\n",
    "df.head()"
   ]
  },
  {
   "cell_type": "code",
   "execution_count": 37,
   "id": "2e13b062-8182-4b32-b210-f32926e26bc1",
   "metadata": {},
   "outputs": [
    {
     "name": "stderr",
     "output_type": "stream",
     "text": [
      "100%|██████████| 1000/1000 [22:30<00:00,  1.35s/it]\n"
     ]
    }
   ],
   "source": [
    "data = []\n",
    "for link in tqdm(df[\"BOOK LINK\"]):\n",
    "    res = requests.get(link)\n",
    "    soup = BeautifulSoup(res.text, \"html.parser\")\n",
    "    type = soup.find(\"ul\", class_ = \"breadcrumb\").find_all(\"a\")[2].text # we need to find the anchor tag whichs stores the type of the book\n",
    "    upc = soup.find(\"table\", class_ = \"table table-striped\").find_all(\"td\")[0].text\n",
    "    exctax = soup.find(\"table\", class_ = \"table table-striped\").find_all(\"td\")[2].text[1:]\n",
    "    inctax = soup.find(\"table\", class_ = \"table table-striped\").find_all(\"td\")[3].text[1:]\n",
    "    tax = soup.find(\"table\", class_ = \"table table-striped\").find_all(\"td\")[4].text[1:]\n",
    "    avbl = soup.find(\"table\", class_ = \"table table-striped\").find_all(\"td\")[5].text\n",
    "    revno = soup.find(\"table\", class_ = \"table table-striped\").find_all(\"td\")[6].text\n",
    "    data.append([type, exctax, inctax, tax, avbl, upc, revno])"
   ]
  },
  {
   "cell_type": "code",
   "execution_count": 38,
   "id": "a79e9305-0690-4673-95bc-fdf59be08177",
   "metadata": {},
   "outputs": [],
   "source": [
    "dff = pd.DataFrame(data, columns = [\"CATEGORY\", \"PRICE (EXCL. TAX)\", \"PRICE (INCL. TAX)\", \"TAX\", \"AVAILIABILITY\", \"UPC\", \"NO. OF REVIEWS\"])"
   ]
  },
  {
   "cell_type": "code",
   "execution_count": 39,
   "id": "0e98d948-ea65-4891-8e6c-74720384801f",
   "metadata": {},
   "outputs": [
    {
     "data": {
      "text/html": [
       "<div>\n",
       "<style scoped>\n",
       "    .dataframe tbody tr th:only-of-type {\n",
       "        vertical-align: middle;\n",
       "    }\n",
       "\n",
       "    .dataframe tbody tr th {\n",
       "        vertical-align: top;\n",
       "    }\n",
       "\n",
       "    .dataframe thead th {\n",
       "        text-align: right;\n",
       "    }\n",
       "</style>\n",
       "<table border=\"1\" class=\"dataframe\">\n",
       "  <thead>\n",
       "    <tr style=\"text-align: right;\">\n",
       "      <th></th>\n",
       "      <th>CATEGORY</th>\n",
       "      <th>PRICE (EXCL. TAX)</th>\n",
       "      <th>PRICE (INCL. TAX)</th>\n",
       "      <th>TAX</th>\n",
       "      <th>AVAILIABILITY</th>\n",
       "      <th>UPC</th>\n",
       "      <th>NO. OF REVIEWS</th>\n",
       "    </tr>\n",
       "  </thead>\n",
       "  <tbody>\n",
       "    <tr>\n",
       "      <th>0</th>\n",
       "      <td>Poetry</td>\n",
       "      <td>£51.77</td>\n",
       "      <td>£51.77</td>\n",
       "      <td>£0.00</td>\n",
       "      <td>In stock (22 available)</td>\n",
       "      <td>a897fe39b1053632</td>\n",
       "      <td>0</td>\n",
       "    </tr>\n",
       "    <tr>\n",
       "      <th>1</th>\n",
       "      <td>Historical Fiction</td>\n",
       "      <td>£53.74</td>\n",
       "      <td>£53.74</td>\n",
       "      <td>£0.00</td>\n",
       "      <td>In stock (20 available)</td>\n",
       "      <td>90fa61229261140a</td>\n",
       "      <td>0</td>\n",
       "    </tr>\n",
       "    <tr>\n",
       "      <th>2</th>\n",
       "      <td>Fiction</td>\n",
       "      <td>£50.10</td>\n",
       "      <td>£50.10</td>\n",
       "      <td>£0.00</td>\n",
       "      <td>In stock (20 available)</td>\n",
       "      <td>6957f44c3847a760</td>\n",
       "      <td>0</td>\n",
       "    </tr>\n",
       "    <tr>\n",
       "      <th>3</th>\n",
       "      <td>Mystery</td>\n",
       "      <td>£47.82</td>\n",
       "      <td>£47.82</td>\n",
       "      <td>£0.00</td>\n",
       "      <td>In stock (20 available)</td>\n",
       "      <td>e00eb4fd7b871a48</td>\n",
       "      <td>0</td>\n",
       "    </tr>\n",
       "    <tr>\n",
       "      <th>4</th>\n",
       "      <td>History</td>\n",
       "      <td>£54.23</td>\n",
       "      <td>£54.23</td>\n",
       "      <td>£0.00</td>\n",
       "      <td>In stock (20 available)</td>\n",
       "      <td>4165285e1663650f</td>\n",
       "      <td>0</td>\n",
       "    </tr>\n",
       "  </tbody>\n",
       "</table>\n",
       "</div>"
      ],
      "text/plain": [
       "             CATEGORY PRICE (EXCL. TAX) PRICE (INCL. TAX)    TAX  \\\n",
       "0              Poetry            £51.77            £51.77  £0.00   \n",
       "1  Historical Fiction            £53.74            £53.74  £0.00   \n",
       "2             Fiction            £50.10            £50.10  £0.00   \n",
       "3             Mystery            £47.82            £47.82  £0.00   \n",
       "4             History            £54.23            £54.23  £0.00   \n",
       "\n",
       "             AVAILIABILITY               UPC NO. OF REVIEWS  \n",
       "0  In stock (22 available)  a897fe39b1053632              0  \n",
       "1  In stock (20 available)  90fa61229261140a              0  \n",
       "2  In stock (20 available)  6957f44c3847a760              0  \n",
       "3  In stock (20 available)  e00eb4fd7b871a48              0  \n",
       "4  In stock (20 available)  4165285e1663650f              0  "
      ]
     },
     "execution_count": 39,
     "metadata": {},
     "output_type": "execute_result"
    }
   ],
   "source": [
    "dff.head()"
   ]
  },
  {
   "cell_type": "code",
   "execution_count": 40,
   "id": "d0f196d8-7ee2-44f3-b303-077ec3736592",
   "metadata": {},
   "outputs": [
    {
     "data": {
      "text/plain": [
       "CATEGORY             0\n",
       "PRICE (EXCL. TAX)    0\n",
       "PRICE (INCL. TAX)    0\n",
       "TAX                  0\n",
       "AVAILIABILITY        0\n",
       "UPC                  0\n",
       "NO. OF REVIEWS       0\n",
       "dtype: int64"
      ]
     },
     "execution_count": 40,
     "metadata": {},
     "output_type": "execute_result"
    }
   ],
   "source": [
    "dff.isnull().sum()"
   ]
  },
  {
   "cell_type": "code",
   "execution_count": 41,
   "id": "9334496b-be2c-4a69-a24f-350bc1370597",
   "metadata": {},
   "outputs": [],
   "source": [
    "dff.to_csv(\"Data.csv\", index = False)"
   ]
  }
 ],
 "metadata": {
  "kernelspec": {
   "display_name": "Python 3 (ipykernel)",
   "language": "python",
   "name": "python3"
  },
  "language_info": {
   "codemirror_mode": {
    "name": "ipython",
    "version": 3
   },
   "file_extension": ".py",
   "mimetype": "text/x-python",
   "name": "python",
   "nbconvert_exporter": "python",
   "pygments_lexer": "ipython3",
   "version": "3.11.7"
  }
 },
 "nbformat": 4,
 "nbformat_minor": 5
}
